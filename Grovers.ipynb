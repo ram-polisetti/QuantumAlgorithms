{
 "cells": [
  {
   "cell_type": "markdown",
   "id": "aec11c6e",
   "metadata": {},
   "source": [
    "from qiskit import *\n",
    "from qi"
   ]
  }
 ],
 "metadata": {
  "language_info": {
   "name": "python"
  }
 },
 "nbformat": 4,
 "nbformat_minor": 5
}
