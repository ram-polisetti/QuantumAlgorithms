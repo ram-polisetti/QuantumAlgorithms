{
 "cells": [
  {
   "cell_type": "code",
   "execution_count": 1,
   "id": "5b8c1d28",
   "metadata": {},
   "outputs": [],
   "source": [
    "from qiskit import *"
   ]
  },
  {
   "cell_type": "code",
   "execution_count": 10,
   "id": "1f7c7f8a",
   "metadata": {},
   "outputs": [],
   "source": [
    "from qiskit_ibm_runtime import QiskitRuntimeService\n",
    "\n",
    "with open(\"ibmapi.txt\", \"r\") as f:\n",
    "    token = f.read().strip()\n",
    "\n",
    "QiskitRuntimeService.save_account(\n",
    "    token=token,\n",
    "    instance=\"Practice\",\n",
    "    set_as_default=True,\n",
    "    overwrite=True  # Allow overwriting the existing account\n",
    ")\n",
    "\n",
    "service = QiskitRuntimeService()\n"
   ]
  },
  {
   "cell_type": "code",
   "execution_count": 11,
   "id": "7c99eea7",
   "metadata": {},
   "outputs": [],
   "source": [
    "from qiskit_aer import Aer"
   ]
  },
  {
   "cell_type": "code",
   "execution_count": 12,
   "id": "018cb3af",
   "metadata": {},
   "outputs": [
    {
     "data": {
      "text/plain": [
       "[AerSimulator('aer_simulator'),\n",
       " AerSimulator('aer_simulator_statevector'),\n",
       " AerSimulator('aer_simulator_density_matrix'),\n",
       " AerSimulator('aer_simulator_stabilizer'),\n",
       " AerSimulator('aer_simulator_matrix_product_state'),\n",
       " AerSimulator('aer_simulator_extended_stabilizer'),\n",
       " AerSimulator('aer_simulator_unitary'),\n",
       " AerSimulator('aer_simulator_superop'),\n",
       " QasmSimulator('qasm_simulator'),\n",
       " StatevectorSimulator('statevector_simulator'),\n",
       " UnitarySimulator('unitary_simulator')]"
      ]
     },
     "execution_count": 12,
     "metadata": {},
     "output_type": "execute_result"
    }
   ],
   "source": [
    "Aer.backends()"
   ]
  },
  {
   "cell_type": "code",
   "execution_count": 16,
   "id": "230d978a",
   "metadata": {},
   "outputs": [],
   "source": [
    "provider = service.backends()"
   ]
  },
  {
   "cell_type": "code",
   "execution_count": 17,
   "id": "776e3d96",
   "metadata": {},
   "outputs": [
    {
     "data": {
      "text/plain": [
       "[<IBMBackend('ibm_torino')>, <IBMBackend('ibm_brisbane')>]"
      ]
     },
     "execution_count": 17,
     "metadata": {},
     "output_type": "execute_result"
    }
   ],
   "source": [
    "provider"
   ]
  },
  {
   "cell_type": "code",
   "execution_count": 20,
   "id": "8b24d5ac",
   "metadata": {},
   "outputs": [
    {
     "name": "stdout",
     "output_type": "stream",
     "text": [
      "Backend: ibm_torino, Qubits: 133, Operational: True, Pending Jobs: 5295\n",
      "Backend: ibm_brisbane, Qubits: 127, Operational: True, Pending Jobs: 2097\n"
     ]
    }
   ],
   "source": [
    "for backend in provider:\n",
    "    name = backend.name\n",
    "    qubits = backend.num_qubits\n",
    "    status = backend.status().operational\n",
    "    pending_jobs = backend.status().pending_jobs\n",
    "    print(f\"Backend: {name}, Qubits: {qubits}, Operational: {status}, Pending Jobs: {pending_jobs}\")"
   ]
  },
  {
   "cell_type": "code",
   "execution_count": null,
   "id": "8d9a16d8",
   "metadata": {},
   "outputs": [],
   "source": []
  }
 ],
 "metadata": {
  "kernelspec": {
   "display_name": "base",
   "language": "python",
   "name": "python3"
  },
  "language_info": {
   "codemirror_mode": {
    "name": "ipython",
    "version": 3
   },
   "file_extension": ".py",
   "mimetype": "text/x-python",
   "name": "python",
   "nbconvert_exporter": "python",
   "pygments_lexer": "ipython3",
   "version": "3.13.5"
  }
 },
 "nbformat": 4,
 "nbformat_minor": 5
}
