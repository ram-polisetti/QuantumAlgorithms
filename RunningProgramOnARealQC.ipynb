{
 "cells": [
  {
   "cell_type": "code",
   "execution_count": 2,
   "id": "5b8c1d28",
   "metadata": {},
   "outputs": [],
   "source": [
    "from qiskit import *"
   ]
  },
  {
   "cell_type": "code",
   "execution_count": 3,
   "id": "1f7c7f8a",
   "metadata": {},
   "outputs": [],
   "source": [
    "from qiskit_ibm_runtime import QiskitRuntimeService\n",
    "\n",
    "with open(\"ibmapi.txt\", \"r\") as f:\n",
    "    token = f.read().strip()\n",
    "\n",
    "QiskitRuntimeService.save_account(\n",
    "    token=token,\n",
    "    instance=\"Practice\",\n",
    "    set_as_default=True,\n",
    "    overwrite=True  # Allow overwriting the existing account\n",
    ")\n",
    "\n",
    "service = QiskitRuntimeService()\n"
   ]
  },
  {
   "cell_type": "code",
   "execution_count": 4,
   "id": "7c99eea7",
   "metadata": {},
   "outputs": [],
   "source": [
    "from qiskit_aer import Aer"
   ]
  },
  {
   "cell_type": "code",
   "execution_count": 5,
   "id": "018cb3af",
   "metadata": {},
   "outputs": [
    {
     "data": {
      "text/plain": [
       "[AerSimulator('aer_simulator'),\n",
       " AerSimulator('aer_simulator_statevector'),\n",
       " AerSimulator('aer_simulator_density_matrix'),\n",
       " AerSimulator('aer_simulator_stabilizer'),\n",
       " AerSimulator('aer_simulator_matrix_product_state'),\n",
       " AerSimulator('aer_simulator_extended_stabilizer'),\n",
       " AerSimulator('aer_simulator_unitary'),\n",
       " AerSimulator('aer_simulator_superop'),\n",
       " QasmSimulator('qasm_simulator'),\n",
       " StatevectorSimulator('statevector_simulator'),\n",
       " UnitarySimulator('unitary_simulator')]"
      ]
     },
     "execution_count": 5,
     "metadata": {},
     "output_type": "execute_result"
    }
   ],
   "source": [
    "Aer.backends()"
   ]
  },
  {
   "cell_type": "code",
   "execution_count": 6,
   "id": "230d978a",
   "metadata": {},
   "outputs": [],
   "source": [
    "provider = service.backends()"
   ]
  },
  {
   "cell_type": "code",
   "execution_count": 7,
   "id": "776e3d96",
   "metadata": {},
   "outputs": [
    {
     "data": {
      "text/plain": [
       "[<IBMBackend('ibm_torino')>, <IBMBackend('ibm_brisbane')>]"
      ]
     },
     "execution_count": 7,
     "metadata": {},
     "output_type": "execute_result"
    }
   ],
   "source": [
    "provider"
   ]
  },
  {
   "cell_type": "code",
   "execution_count": 8,
   "id": "8b24d5ac",
   "metadata": {},
   "outputs": [
    {
     "name": "stdout",
     "output_type": "stream",
     "text": [
      "Backend: ibm_torino, Qubits: 133, Operational: True, Pending Jobs: 5295\n",
      "Backend: ibm_brisbane, Qubits: 127, Operational: True, Pending Jobs: 2099\n"
     ]
    }
   ],
   "source": [
    "for backend in provider:\n",
    "    name = backend.name\n",
    "    qubits = backend.num_qubits\n",
    "    status = backend.status().operational\n",
    "    pending_jobs = backend.status().pending_jobs\n",
    "    print(f\"Backend: {name}, Qubits: {qubits}, Operational: {status}, Pending Jobs: {pending_jobs}\")"
   ]
  },
  {
   "cell_type": "code",
   "execution_count": 9,
   "id": "8d9a16d8",
   "metadata": {},
   "outputs": [
    {
     "data": {
      "text/plain": [
       "<qiskit.circuit.instructionset.InstructionSet at 0x15be4d420>"
      ]
     },
     "execution_count": 9,
     "metadata": {},
     "output_type": "execute_result"
    }
   ],
   "source": [
    "qc = QuantumCircuit(2, 2)\n",
    "qc.h(0)\n",
    "qc.cx(0, 1)\n",
    "qc.measure([0, 1], [0, 1])"
   ]
  },
  {
   "cell_type": "code",
   "execution_count": 10,
   "id": "0570f961",
   "metadata": {},
   "outputs": [
    {
     "data": {
      "image/png": "[encoded data removed]",
      "text/plain": [
       "<Figure size 454.517x284.278 with 1 Axes>"
      ]
     },
     "execution_count": 10,
     "metadata": {},
     "output_type": "execute_result"
    }
   ],
   "source": [
    "# %inline matplotlib\n",
    "\n",
    "qc.draw(output='mpl')"
   ]
  },
  {
   "cell_type": "code",
   "execution_count": 11,
   "id": "e44c7d93",
   "metadata": {},
   "outputs": [
    {
     "name": "stdout",
     "output_type": "stream",
     "text": [
      "{'11': 547, '00': 477}\n"
     ]
    }
   ],
   "source": [
    "job = Aer.get_backend('qasm_simulator').run(qc, shots=1024)\n",
    "result = job.result()\n",
    "counts = result.get_counts()\n",
    "print(counts)"
   ]
  },
  {
   "cell_type": "code",
   "execution_count": 12,
   "id": "1d884519",
   "metadata": {},
   "outputs": [
    {
     "data": {
      "image/png": "[encoded data removed]",
      "text/plain": [
       "<Figure size 640x480 with 1 Axes>"
      ]
     },
     "execution_count": 12,
     "metadata": {},
     "output_type": "execute_result"
    }
   ],
   "source": [
    "from qiskit.visualization import plot_histogram\n",
    "plot_histogram(counts)\n"
   ]
  },
  {
   "cell_type": "code",
   "execution_count": 13,
   "id": "cb3167f2",
   "metadata": {},
   "outputs": [],
   "source": [
    "backend = service.backend(\"ibm_brisbane\")"
   ]
  },
  {
   "cell_type": "markdown",
   "id": "f1f80d6a",
   "metadata": {},
   "source": [
    "IBM Quantum now requires you to transpile your circuit for the backend before running it.\n",
    "\n",
    "Solution:\n",
    "Transpile your circuit for the backend using Qiskit’s ‎`transpile` function."
   ]
  },
  {
   "cell_type": "code",
   "execution_count": 14,
   "id": "868d86eb",
   "metadata": {},
   "outputs": [],
   "source": [
    "from qiskit import transpile\n",
    "transpiled_qc = transpile(qc, backend=backend)"
   ]
  },
  {
   "cell_type": "markdown",
   "id": "001c1f98",
   "metadata": {},
   "source": [
    "`backend.run()` is no longer supported in the latest Qiskit IBM Runtime API.\n",
    "You now need to use the Qiskit Primitives interface (`Sampler` for measurement counts,`Estimator` for expectation values).\n",
    "\n",
    " `Sampler` returns quasi-probabilities, which are similar to counts but may include negative values due to error mitigation. For most simple circuits, they closely resemble actual counts.\n",
    " • If you want to run multiple circuits, pass a list: `circuits=[qc1, qc2, ...]`."
   ]
  },
  {
   "cell_type": "code",
   "execution_count": null,
   "id": "79e33075",
   "metadata": {},
   "outputs": [],
   "source": [
    "from qiskit_ibm_runtime import Sampler\n",
    "\n",
    "sampler = Sampler(backend)\n",
    "# You need to pass a list of circuits to `sampler.run()`, even if you have only one circuit.\n",
    "\n",
    "job = sampler.run([transpiled_qc], shots=1024)\n"
   ]
  },
  {
   "cell_type": "code",
   "execution_count": 18,
   "id": "691b2916",
   "metadata": {},
   "outputs": [
    {
     "data": {
      "text/plain": [
       "PrimitiveResult([SamplerPubResult(data=DataBin(c=BitArray(<shape=(), num_shots=1024, num_bits=2>)), metadata={'circuit_metadata': {}})], metadata={'execution': {'execution_spans': ExecutionSpans([DoubleSliceSpan(<start='2025-08-26 14:46:30', stop='2025-08-26 14:46:31', size=1024>)])}, 'version': 2})"
      ]
     },
     "execution_count": 18,
     "metadata": {},
     "output_type": "execute_result"
    }
   ],
   "source": [
    "result = job.result()\n",
    "result"
   ]
  },
  {
   "cell_type": "code",
   "execution_count": 22,
   "id": "582707fd",
   "metadata": {},
   "outputs": [
    {
     "data": {
      "text/plain": [
       "DataBin(c=BitArray(<shape=(), num_shots=1024, num_bits=2>))"
      ]
     },
     "execution_count": 22,
     "metadata": {},
     "output_type": "execute_result"
    }
   ],
   "source": [
    "result[0].data"
   ]
  },
  {
   "cell_type": "code",
   "execution_count": 21,
   "id": "069a16a3",
   "metadata": {},
   "outputs": [
    {
     "ename": "AttributeError",
     "evalue": "'DataBin' object has no attribute 'alpha'",
     "output_type": "error",
     "traceback": [
      "\u001b[0;31m---------------------------------------------------------------------------\u001b[0m",
      "\u001b[0;31mAttributeError\u001b[0m                            Traceback (most recent call last)",
      "Cell \u001b[0;32mIn[21], line 2\u001b[0m\n\u001b[1;32m      1\u001b[0m \u001b[38;5;66;03m# these are the bit values from the alpha register, over all shots\u001b[39;00m\n\u001b[0;32m----> 2\u001b[0m bitvals \u001b[38;5;241m=\u001b[39m result[\u001b[38;5;241m0\u001b[39m]\u001b[38;5;241m.\u001b[39mdata\u001b[38;5;241m.\u001b[39malpha\n\u001b[1;32m      3\u001b[0m \u001b[38;5;66;03m# we can use it to generate a Counts mapping, which is similar to a quasi prob distribution\u001b[39;00m\n\u001b[1;32m      4\u001b[0m counts \u001b[38;5;241m=\u001b[39m bitvals\u001b[38;5;241m.\u001b[39mget_counts()\n",
      "\u001b[0;31mAttributeError\u001b[0m: 'DataBin' object has no attribute 'alpha'"
     ]
    }
   ],
   "source": [
    "# these are the bit values from the alpha register, over all shots\n",
    "bitvals = result[0].data.alpha\n",
    "# we can use it to generate a Counts mapping, which is similar to a quasi prob distribution\n",
    "counts = bitvals.get_counts()\n",
    "# which can in turn be converted to the V1 type through normalization\n",
    "quasi_dist = QuasiDistribution({outcome: freq / shots for outcome, freq in counts.items()})"
   ]
  },
  {
   "cell_type": "code",
   "execution_count": null,
   "id": "6ff37f66",
   "metadata": {},
   "outputs": [],
   "source": []
  }
 ],
 "metadata": {
  "kernelspec": {
   "display_name": "base",
   "language": "python",
   "name": "python3"
  },
  "language_info": {
   "codemirror_mode": {
    "name": "ipython",
    "version": 3
   },
   "file_extension": ".py",
   "mimetype": "text/x-python",
   "name": "python",
   "nbconvert_exporter": "python",
   "pygments_lexer": "ipython3",
   "version": "3.13.5"
  }
 },
 "nbformat": 4,
 "nbformat_minor": 5
}
